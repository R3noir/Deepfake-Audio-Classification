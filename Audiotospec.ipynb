{
 "cells": [
  {
   "cell_type": "code",
   "execution_count": 1,
   "metadata": {},
   "outputs": [],
   "source": [
    "import torchaudio\n",
    "import torch\n",
    "import matplotlib.pyplot as plt\n",
    "import numpy as np\n",
    "import os"
   ]
  },
  {
   "cell_type": "code",
   "execution_count": 2,
   "metadata": {},
   "outputs": [],
   "source": [
    "original_dataset_path = 'Dataset'\n",
    "new_dataset_path = 'Dataset_Spec'\n",
    "new_sample_rate = 16000\n",
    "\n",
    "def create_dir(path):\n",
    "    if not os.path.exists(path):\n",
    "        os.makedirs(path)\n",
    "\n",
    "def save_spectrogram(waveform, sample_rate, save_path):\n",
    "    # Resample the waveform\n",
    "    resample = torchaudio.transforms.Resample(orig_freq=sample_rate, new_freq=new_sample_rate)\n",
    "    waveform = resample(waveform)\n",
    "    waveform = np.array(waveform)\n",
    "\n",
    "    # Plot the spectrogram\n",
    "    plt.figure(figsize=(4, 3)) #790 x 490 pixels\n",
    "    plt.specgram(waveform[0], Fs=new_sample_rate)\n",
    "    plt.axis('off')\n",
    "    # Save the spectrogram as an image\n",
    "    plt.savefig(save_path, bbox_inches='tight', pad_inches=0)\n",
    "    plt.close()\n",
    "\n",
    "# Traverse the original dataset directory\n",
    "for root, dirs, files in os.walk(original_dataset_path):\n",
    "    for file in files:\n",
    "        if file.endswith(('.mp3', '.wav')):\n",
    "            file_path = os.path.join(root, file)\n",
    "            relative_path = os.path.relpath(root, original_dataset_path)\n",
    "            new_dir = os.path.join(new_dataset_path, relative_path)\n",
    "            create_dir(new_dir)\n",
    "\n",
    "            # Load the audio file\n",
    "            waveform, sample_rate = torchaudio.load(file_path)\n",
    "\n",
    "            # Save the spectrogram\n",
    "            save_path = os.path.join(new_dir, os.path.splitext(file)[0] + '.png')\n",
    "            save_spectrogram(waveform, sample_rate, save_path)"
   ]
  }
 ],
 "metadata": {
  "kernelspec": {
   "display_name": ".venv",
   "language": "python",
   "name": "python3"
  },
  "language_info": {
   "codemirror_mode": {
    "name": "ipython",
    "version": 3
   },
   "file_extension": ".py",
   "mimetype": "text/x-python",
   "name": "python",
   "nbconvert_exporter": "python",
   "pygments_lexer": "ipython3",
   "version": "3.9.0"
  }
 },
 "nbformat": 4,
 "nbformat_minor": 2
}
