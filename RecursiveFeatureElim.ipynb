{
 "cells": [
  {
   "cell_type": "code",
   "execution_count": 4,
   "metadata": {},
   "outputs": [],
   "source": [
    "import pandas as pd\n",
    "from sklearn.model_selection import StratifiedKFold\n",
    "from sklearn.ensemble import RandomForestClassifier, GradientBoostingClassifier, ExtraTreesClassifier\n",
    "from sklearn.tree import DecisionTreeClassifier\n",
    "from sklearn.feature_selection import RFECV, RFE\n",
    "from sklearn.model_selection import train_test_split"
   ]
  },
  {
   "cell_type": "code",
   "execution_count": 5,
   "metadata": {},
   "outputs": [
    {
     "data": {
      "text/html": [
       "<div>\n",
       "<style scoped>\n",
       "    .dataframe tbody tr th:only-of-type {\n",
       "        vertical-align: middle;\n",
       "    }\n",
       "\n",
       "    .dataframe tbody tr th {\n",
       "        vertical-align: top;\n",
       "    }\n",
       "\n",
       "    .dataframe thead th {\n",
       "        text-align: right;\n",
       "    }\n",
       "</style>\n",
       "<table border=\"1\" class=\"dataframe\">\n",
       "  <thead>\n",
       "    <tr style=\"text-align: right;\">\n",
       "      <th></th>\n",
       "      <th>F0semitoneFrom27.5Hz_sma3nz_amean</th>\n",
       "      <th>F0semitoneFrom27.5Hz_sma3nz_stddevNorm</th>\n",
       "      <th>F0semitoneFrom27.5Hz_sma3nz_percentile20.0</th>\n",
       "      <th>F0semitoneFrom27.5Hz_sma3nz_percentile50.0</th>\n",
       "      <th>F0semitoneFrom27.5Hz_sma3nz_percentile80.0</th>\n",
       "      <th>F0semitoneFrom27.5Hz_sma3nz_pctlrange0-2</th>\n",
       "      <th>F0semitoneFrom27.5Hz_sma3nz_meanRisingSlope</th>\n",
       "      <th>F0semitoneFrom27.5Hz_sma3nz_stddevRisingSlope</th>\n",
       "      <th>F0semitoneFrom27.5Hz_sma3nz_meanFallingSlope</th>\n",
       "      <th>F0semitoneFrom27.5Hz_sma3nz_stddevFallingSlope</th>\n",
       "      <th>...</th>\n",
       "      <th>slopeUV0-500_sma3nz_amean</th>\n",
       "      <th>slopeUV500-1500_sma3nz_amean</th>\n",
       "      <th>spectralFluxUV_sma3nz_amean</th>\n",
       "      <th>loudnessPeaksPerSec</th>\n",
       "      <th>VoicedSegmentsPerSec</th>\n",
       "      <th>MeanVoicedSegmentLengthSec</th>\n",
       "      <th>StddevVoicedSegmentLengthSec</th>\n",
       "      <th>MeanUnvoicedSegmentLength</th>\n",
       "      <th>StddevUnvoicedSegmentLength</th>\n",
       "      <th>equivalentSoundLevel_dBp</th>\n",
       "    </tr>\n",
       "  </thead>\n",
       "  <tbody>\n",
       "    <tr>\n",
       "      <th>0</th>\n",
       "      <td>40.348400</td>\n",
       "      <td>0.053911</td>\n",
       "      <td>39.333560</td>\n",
       "      <td>40.792065</td>\n",
       "      <td>41.646780</td>\n",
       "      <td>2.313217</td>\n",
       "      <td>57.455760</td>\n",
       "      <td>24.437008</td>\n",
       "      <td>24.974644</td>\n",
       "      <td>19.391956</td>\n",
       "      <td>...</td>\n",
       "      <td>0.019291</td>\n",
       "      <td>-0.008166</td>\n",
       "      <td>0.209579</td>\n",
       "      <td>4.276316</td>\n",
       "      <td>3.678930</td>\n",
       "      <td>0.171818</td>\n",
       "      <td>0.117072</td>\n",
       "      <td>0.072500</td>\n",
       "      <td>0.067593</td>\n",
       "      <td>-17.525782</td>\n",
       "    </tr>\n",
       "    <tr>\n",
       "      <th>1</th>\n",
       "      <td>41.504837</td>\n",
       "      <td>0.054985</td>\n",
       "      <td>39.371902</td>\n",
       "      <td>41.949738</td>\n",
       "      <td>43.531970</td>\n",
       "      <td>4.160069</td>\n",
       "      <td>30.881502</td>\n",
       "      <td>14.119700</td>\n",
       "      <td>22.640627</td>\n",
       "      <td>15.947425</td>\n",
       "      <td>...</td>\n",
       "      <td>-0.001012</td>\n",
       "      <td>0.001218</td>\n",
       "      <td>0.159562</td>\n",
       "      <td>4.580153</td>\n",
       "      <td>2.334630</td>\n",
       "      <td>0.293333</td>\n",
       "      <td>0.200222</td>\n",
       "      <td>0.111667</td>\n",
       "      <td>0.076902</td>\n",
       "      <td>-17.938622</td>\n",
       "    </tr>\n",
       "    <tr>\n",
       "      <th>2</th>\n",
       "      <td>37.712480</td>\n",
       "      <td>0.055386</td>\n",
       "      <td>35.200890</td>\n",
       "      <td>37.791447</td>\n",
       "      <td>39.904694</td>\n",
       "      <td>4.703804</td>\n",
       "      <td>69.889260</td>\n",
       "      <td>43.190790</td>\n",
       "      <td>16.530645</td>\n",
       "      <td>13.809689</td>\n",
       "      <td>...</td>\n",
       "      <td>-0.014329</td>\n",
       "      <td>-0.003311</td>\n",
       "      <td>0.141658</td>\n",
       "      <td>3.703704</td>\n",
       "      <td>2.717392</td>\n",
       "      <td>0.216000</td>\n",
       "      <td>0.113947</td>\n",
       "      <td>0.108333</td>\n",
       "      <td>0.080087</td>\n",
       "      <td>-17.706347</td>\n",
       "    </tr>\n",
       "    <tr>\n",
       "      <th>3</th>\n",
       "      <td>41.001520</td>\n",
       "      <td>0.070778</td>\n",
       "      <td>38.991745</td>\n",
       "      <td>41.111237</td>\n",
       "      <td>43.528840</td>\n",
       "      <td>4.537094</td>\n",
       "      <td>152.844850</td>\n",
       "      <td>105.830140</td>\n",
       "      <td>17.925686</td>\n",
       "      <td>6.202608</td>\n",
       "      <td>...</td>\n",
       "      <td>0.006954</td>\n",
       "      <td>0.005658</td>\n",
       "      <td>0.151966</td>\n",
       "      <td>5.058366</td>\n",
       "      <td>1.984127</td>\n",
       "      <td>0.338000</td>\n",
       "      <td>0.474822</td>\n",
       "      <td>0.120000</td>\n",
       "      <td>0.071414</td>\n",
       "      <td>-16.723620</td>\n",
       "    </tr>\n",
       "    <tr>\n",
       "      <th>4</th>\n",
       "      <td>36.614265</td>\n",
       "      <td>0.027685</td>\n",
       "      <td>35.628530</td>\n",
       "      <td>36.464733</td>\n",
       "      <td>37.718040</td>\n",
       "      <td>2.089512</td>\n",
       "      <td>23.409750</td>\n",
       "      <td>16.364060</td>\n",
       "      <td>12.338850</td>\n",
       "      <td>10.502349</td>\n",
       "      <td>...</td>\n",
       "      <td>-0.003060</td>\n",
       "      <td>-0.000126</td>\n",
       "      <td>0.070482</td>\n",
       "      <td>4.830918</td>\n",
       "      <td>1.980198</td>\n",
       "      <td>0.315000</td>\n",
       "      <td>0.163936</td>\n",
       "      <td>0.134000</td>\n",
       "      <td>0.090907</td>\n",
       "      <td>-26.597572</td>\n",
       "    </tr>\n",
       "  </tbody>\n",
       "</table>\n",
       "<p>5 rows × 88 columns</p>\n",
       "</div>"
      ],
      "text/plain": [
       "   F0semitoneFrom27.5Hz_sma3nz_amean  F0semitoneFrom27.5Hz_sma3nz_stddevNorm  \\\n",
       "0                          40.348400                                0.053911   \n",
       "1                          41.504837                                0.054985   \n",
       "2                          37.712480                                0.055386   \n",
       "3                          41.001520                                0.070778   \n",
       "4                          36.614265                                0.027685   \n",
       "\n",
       "   F0semitoneFrom27.5Hz_sma3nz_percentile20.0  \\\n",
       "0                                   39.333560   \n",
       "1                                   39.371902   \n",
       "2                                   35.200890   \n",
       "3                                   38.991745   \n",
       "4                                   35.628530   \n",
       "\n",
       "   F0semitoneFrom27.5Hz_sma3nz_percentile50.0  \\\n",
       "0                                   40.792065   \n",
       "1                                   41.949738   \n",
       "2                                   37.791447   \n",
       "3                                   41.111237   \n",
       "4                                   36.464733   \n",
       "\n",
       "   F0semitoneFrom27.5Hz_sma3nz_percentile80.0  \\\n",
       "0                                   41.646780   \n",
       "1                                   43.531970   \n",
       "2                                   39.904694   \n",
       "3                                   43.528840   \n",
       "4                                   37.718040   \n",
       "\n",
       "   F0semitoneFrom27.5Hz_sma3nz_pctlrange0-2  \\\n",
       "0                                  2.313217   \n",
       "1                                  4.160069   \n",
       "2                                  4.703804   \n",
       "3                                  4.537094   \n",
       "4                                  2.089512   \n",
       "\n",
       "   F0semitoneFrom27.5Hz_sma3nz_meanRisingSlope  \\\n",
       "0                                    57.455760   \n",
       "1                                    30.881502   \n",
       "2                                    69.889260   \n",
       "3                                   152.844850   \n",
       "4                                    23.409750   \n",
       "\n",
       "   F0semitoneFrom27.5Hz_sma3nz_stddevRisingSlope  \\\n",
       "0                                      24.437008   \n",
       "1                                      14.119700   \n",
       "2                                      43.190790   \n",
       "3                                     105.830140   \n",
       "4                                      16.364060   \n",
       "\n",
       "   F0semitoneFrom27.5Hz_sma3nz_meanFallingSlope  \\\n",
       "0                                     24.974644   \n",
       "1                                     22.640627   \n",
       "2                                     16.530645   \n",
       "3                                     17.925686   \n",
       "4                                     12.338850   \n",
       "\n",
       "   F0semitoneFrom27.5Hz_sma3nz_stddevFallingSlope  ...  \\\n",
       "0                                       19.391956  ...   \n",
       "1                                       15.947425  ...   \n",
       "2                                       13.809689  ...   \n",
       "3                                        6.202608  ...   \n",
       "4                                       10.502349  ...   \n",
       "\n",
       "   slopeUV0-500_sma3nz_amean  slopeUV500-1500_sma3nz_amean  \\\n",
       "0                   0.019291                     -0.008166   \n",
       "1                  -0.001012                      0.001218   \n",
       "2                  -0.014329                     -0.003311   \n",
       "3                   0.006954                      0.005658   \n",
       "4                  -0.003060                     -0.000126   \n",
       "\n",
       "   spectralFluxUV_sma3nz_amean  loudnessPeaksPerSec  VoicedSegmentsPerSec  \\\n",
       "0                     0.209579             4.276316              3.678930   \n",
       "1                     0.159562             4.580153              2.334630   \n",
       "2                     0.141658             3.703704              2.717392   \n",
       "3                     0.151966             5.058366              1.984127   \n",
       "4                     0.070482             4.830918              1.980198   \n",
       "\n",
       "   MeanVoicedSegmentLengthSec  StddevVoicedSegmentLengthSec  \\\n",
       "0                    0.171818                      0.117072   \n",
       "1                    0.293333                      0.200222   \n",
       "2                    0.216000                      0.113947   \n",
       "3                    0.338000                      0.474822   \n",
       "4                    0.315000                      0.163936   \n",
       "\n",
       "   MeanUnvoicedSegmentLength  StddevUnvoicedSegmentLength  \\\n",
       "0                   0.072500                     0.067593   \n",
       "1                   0.111667                     0.076902   \n",
       "2                   0.108333                     0.080087   \n",
       "3                   0.120000                     0.071414   \n",
       "4                   0.134000                     0.090907   \n",
       "\n",
       "   equivalentSoundLevel_dBp  \n",
       "0                -17.525782  \n",
       "1                -17.938622  \n",
       "2                -17.706347  \n",
       "3                -16.723620  \n",
       "4                -26.597572  \n",
       "\n",
       "[5 rows x 88 columns]"
      ]
     },
     "execution_count": 5,
     "metadata": {},
     "output_type": "execute_result"
    }
   ],
   "source": [
    "audio_data = pd.read_csv(\"OpenSMILE_all_features.csv\")\n",
    "y = audio_data['label']\n",
    "columns_to_drop = ['label', 'relative_path', 'file', 'speaker', 'gender']\n",
    "X = audio_data.drop(columns=columns_to_drop, axis=1)\n",
    "Strat_kfold = StratifiedKFold(n_splits=5, shuffle=True, random_state=42)\n",
    "X.head()\n"
   ]
  },
  {
   "cell_type": "code",
   "execution_count": 6,
   "metadata": {},
   "outputs": [],
   "source": [
    "#X_train, X_test, y_train, y_test = train_test_split(X, y, test_size = 0.20, random_state=42)"
   ]
  },
  {
   "cell_type": "code",
   "execution_count": 7,
   "metadata": {},
   "outputs": [
    {
     "name": "stdout",
     "output_type": "stream",
     "text": [
      "Optimal number of features for Random Forest Classifier: 3\n"
     ]
    }
   ],
   "source": [
    "model_rf = RandomForestClassifier(random_state=42)\n",
    "rfecv_rf  = RFECV(estimator= model_rf, cv= Strat_kfold, scoring=\"accuracy\", n_jobs=-1) # Instantiate the RFECV and its parameters, n_jobs=-1 means that use all the processors\n",
    "model_rf_fit = rfecv_rf.fit(X, y)\n",
    "print(\"Optimal number of features for Random Forest Classifier: %d\" % model_rf_fit.n_features_)"
   ]
  },
  {
   "cell_type": "code",
   "execution_count": 8,
   "metadata": {},
   "outputs": [],
   "source": [
    "model_rf = RandomForestClassifier(random_state=42)\n",
    "rfe_rf = RFE(estimator=model_rf, n_features_to_select=rfecv_rf.n_features_)\n",
    "model_rf_fit_rfe = rfe_rf.fit(X, y)"
   ]
  },
  {
   "cell_type": "code",
   "execution_count": 9,
   "metadata": {},
   "outputs": [
    {
     "data": {
      "text/html": [
       "<div>\n",
       "<style scoped>\n",
       "    .dataframe tbody tr th:only-of-type {\n",
       "        vertical-align: middle;\n",
       "    }\n",
       "\n",
       "    .dataframe tbody tr th {\n",
       "        vertical-align: top;\n",
       "    }\n",
       "\n",
       "    .dataframe thead th {\n",
       "        text-align: right;\n",
       "    }\n",
       "</style>\n",
       "<table border=\"1\" class=\"dataframe\">\n",
       "  <thead>\n",
       "    <tr style=\"text-align: right;\">\n",
       "      <th></th>\n",
       "      <th>Feature</th>\n",
       "      <th>Rank</th>\n",
       "    </tr>\n",
       "  </thead>\n",
       "  <tbody>\n",
       "    <tr>\n",
       "      <th>86</th>\n",
       "      <td>StddevUnvoicedSegmentLength</td>\n",
       "      <td>1</td>\n",
       "    </tr>\n",
       "    <tr>\n",
       "      <th>81</th>\n",
       "      <td>loudnessPeaksPerSec</td>\n",
       "      <td>1</td>\n",
       "    </tr>\n",
       "    <tr>\n",
       "      <th>85</th>\n",
       "      <td>MeanUnvoicedSegmentLength</td>\n",
       "      <td>1</td>\n",
       "    </tr>\n",
       "  </tbody>\n",
       "</table>\n",
       "</div>"
      ],
      "text/plain": [
       "                        Feature  Rank\n",
       "86  StddevUnvoicedSegmentLength     1\n",
       "81          loudnessPeaksPerSec     1\n",
       "85    MeanUnvoicedSegmentLength     1"
      ]
     },
     "execution_count": 9,
     "metadata": {},
     "output_type": "execute_result"
    }
   ],
   "source": [
    "feature_ranking_RF = pd.DataFrame({\n",
    "    'Feature': X.columns,\n",
    "    'Rank': model_rf_fit_rfe.ranking_\n",
    "})\n",
    "feature_ranking = feature_ranking_RF.sort_values(by='Rank', ascending=True)\n",
    "feature_ranking.head(rfecv_rf.n_features_)"
   ]
  },
  {
   "cell_type": "code",
   "execution_count": 10,
   "metadata": {},
   "outputs": [
    {
     "name": "stdout",
     "output_type": "stream",
     "text": [
      "Optimal number of features for Decision Tree Classifier: 2\n"
     ]
    }
   ],
   "source": [
    "model_dt = DecisionTreeClassifier(random_state=42)\n",
    "rfecv_dt  = RFECV(estimator= model_dt, cv= Strat_kfold, scoring=\"accuracy\", n_jobs=-1)\n",
    "model_dt_fit = rfecv_dt.fit(X, y)\n",
    "print(\"Optimal number of features for Decision Tree Classifier: %d\" % rfecv_dt.n_features_)"
   ]
  },
  {
   "cell_type": "code",
   "execution_count": 11,
   "metadata": {},
   "outputs": [],
   "source": [
    "model_dt = DecisionTreeClassifier(random_state=42)\n",
    "rfe_dt = RFE(estimator=model_dt, n_features_to_select=rfecv_dt.n_features_)\n",
    "model_dt_fit_rfe = rfe_dt.fit(X, y)"
   ]
  },
  {
   "cell_type": "code",
   "execution_count": 12,
   "metadata": {},
   "outputs": [
    {
     "data": {
      "text/html": [
       "<div>\n",
       "<style scoped>\n",
       "    .dataframe tbody tr th:only-of-type {\n",
       "        vertical-align: middle;\n",
       "    }\n",
       "\n",
       "    .dataframe tbody tr th {\n",
       "        vertical-align: top;\n",
       "    }\n",
       "\n",
       "    .dataframe thead th {\n",
       "        text-align: right;\n",
       "    }\n",
       "</style>\n",
       "<table border=\"1\" class=\"dataframe\">\n",
       "  <thead>\n",
       "    <tr style=\"text-align: right;\">\n",
       "      <th></th>\n",
       "      <th>Feature</th>\n",
       "      <th>Rank</th>\n",
       "    </tr>\n",
       "  </thead>\n",
       "  <tbody>\n",
       "    <tr>\n",
       "      <th>86</th>\n",
       "      <td>StddevUnvoicedSegmentLength</td>\n",
       "      <td>1</td>\n",
       "    </tr>\n",
       "    <tr>\n",
       "      <th>85</th>\n",
       "      <td>MeanUnvoicedSegmentLength</td>\n",
       "      <td>1</td>\n",
       "    </tr>\n",
       "  </tbody>\n",
       "</table>\n",
       "</div>"
      ],
      "text/plain": [
       "                        Feature  Rank\n",
       "86  StddevUnvoicedSegmentLength     1\n",
       "85    MeanUnvoicedSegmentLength     1"
      ]
     },
     "execution_count": 12,
     "metadata": {},
     "output_type": "execute_result"
    }
   ],
   "source": [
    "feature_ranking_dt = pd.DataFrame({\n",
    "    'Feature': X.columns,\n",
    "    'Rank': model_dt_fit_rfe.ranking_\n",
    "})\n",
    "feature_ranking = feature_ranking_dt.sort_values(by='Rank', ascending=True)\n",
    "feature_ranking.head(rfecv_dt.n_features_)"
   ]
  },
  {
   "cell_type": "code",
   "execution_count": 13,
   "metadata": {},
   "outputs": [
    {
     "name": "stdout",
     "output_type": "stream",
     "text": [
      "Optimal number of features for Gradient Boosting Classifier: 2\n"
     ]
    }
   ],
   "source": [
    "model_gbc = GradientBoostingClassifier(random_state=42)\n",
    "rfecv_gbc  = RFECV(estimator= model_gbc, cv= Strat_kfold, scoring=\"accuracy\", n_jobs=-1)\n",
    "model_gbc_fit = rfecv_gbc.fit(X, y)\n",
    "print(\"Optimal number of features for Gradient Boosting Classifier: %d\" % rfecv_gbc.n_features_)"
   ]
  },
  {
   "cell_type": "code",
   "execution_count": 14,
   "metadata": {},
   "outputs": [],
   "source": [
    "model_gbc = GradientBoostingClassifier(random_state=42)\n",
    "rfe_gbc = RFE(estimator=model_gbc, n_features_to_select=rfecv_gbc.n_features_)\n",
    "model_gbc_fit_rfe = rfe_gbc.fit(X, y)"
   ]
  },
  {
   "cell_type": "code",
   "execution_count": 15,
   "metadata": {},
   "outputs": [
    {
     "data": {
      "text/html": [
       "<div>\n",
       "<style scoped>\n",
       "    .dataframe tbody tr th:only-of-type {\n",
       "        vertical-align: middle;\n",
       "    }\n",
       "\n",
       "    .dataframe tbody tr th {\n",
       "        vertical-align: top;\n",
       "    }\n",
       "\n",
       "    .dataframe thead th {\n",
       "        text-align: right;\n",
       "    }\n",
       "</style>\n",
       "<table border=\"1\" class=\"dataframe\">\n",
       "  <thead>\n",
       "    <tr style=\"text-align: right;\">\n",
       "      <th></th>\n",
       "      <th>Feature</th>\n",
       "      <th>Rank</th>\n",
       "    </tr>\n",
       "  </thead>\n",
       "  <tbody>\n",
       "    <tr>\n",
       "      <th>86</th>\n",
       "      <td>StddevUnvoicedSegmentLength</td>\n",
       "      <td>1</td>\n",
       "    </tr>\n",
       "    <tr>\n",
       "      <th>85</th>\n",
       "      <td>MeanUnvoicedSegmentLength</td>\n",
       "      <td>1</td>\n",
       "    </tr>\n",
       "  </tbody>\n",
       "</table>\n",
       "</div>"
      ],
      "text/plain": [
       "                        Feature  Rank\n",
       "86  StddevUnvoicedSegmentLength     1\n",
       "85    MeanUnvoicedSegmentLength     1"
      ]
     },
     "execution_count": 15,
     "metadata": {},
     "output_type": "execute_result"
    }
   ],
   "source": [
    "feature_ranking_gbc = pd.DataFrame({\n",
    "    'Feature': X.columns,\n",
    "    'Rank': model_gbc_fit_rfe.ranking_\n",
    "})\n",
    "feature_ranking = feature_ranking_gbc.sort_values(by='Rank', ascending=True)\n",
    "feature_ranking.head(rfecv_gbc.n_features_)"
   ]
  },
  {
   "cell_type": "code",
   "execution_count": 16,
   "metadata": {},
   "outputs": [
    {
     "name": "stdout",
     "output_type": "stream",
     "text": [
      "Optimal number of features for Gradient Boosting Classifier: 3\n"
     ]
    }
   ],
   "source": [
    "model_etc = ExtraTreesClassifier(random_state=42)\n",
    "rfecv_etc  = RFECV(estimator= model_etc, cv= Strat_kfold, scoring=\"accuracy\", n_jobs=-1)\n",
    "model_etc_fit = rfecv_etc.fit(X, y)\n",
    "print(\"Optimal number of features for Gradient Boosting Classifier: %d\" % rfecv_etc.n_features_)"
   ]
  },
  {
   "cell_type": "code",
   "execution_count": 17,
   "metadata": {},
   "outputs": [],
   "source": [
    "model_etc = ExtraTreesClassifier(random_state=42)\n",
    "rfe_etc = RFE(estimator=model_gbc, n_features_to_select=rfecv_etc.n_features_)\n",
    "model_etc_fit_rfe = rfe_etc.fit(X, y)"
   ]
  },
  {
   "cell_type": "code",
   "execution_count": 18,
   "metadata": {},
   "outputs": [
    {
     "data": {
      "text/html": [
       "<div>\n",
       "<style scoped>\n",
       "    .dataframe tbody tr th:only-of-type {\n",
       "        vertical-align: middle;\n",
       "    }\n",
       "\n",
       "    .dataframe tbody tr th {\n",
       "        vertical-align: top;\n",
       "    }\n",
       "\n",
       "    .dataframe thead th {\n",
       "        text-align: right;\n",
       "    }\n",
       "</style>\n",
       "<table border=\"1\" class=\"dataframe\">\n",
       "  <thead>\n",
       "    <tr style=\"text-align: right;\">\n",
       "      <th></th>\n",
       "      <th>Feature</th>\n",
       "      <th>Rank</th>\n",
       "    </tr>\n",
       "  </thead>\n",
       "  <tbody>\n",
       "    <tr>\n",
       "      <th>86</th>\n",
       "      <td>StddevUnvoicedSegmentLength</td>\n",
       "      <td>1</td>\n",
       "    </tr>\n",
       "    <tr>\n",
       "      <th>85</th>\n",
       "      <td>MeanUnvoicedSegmentLength</td>\n",
       "      <td>1</td>\n",
       "    </tr>\n",
       "    <tr>\n",
       "      <th>79</th>\n",
       "      <td>slopeUV500-1500_sma3nz_amean</td>\n",
       "      <td>2</td>\n",
       "    </tr>\n",
       "  </tbody>\n",
       "</table>\n",
       "</div>"
      ],
      "text/plain": [
       "                         Feature  Rank\n",
       "86   StddevUnvoicedSegmentLength     1\n",
       "85     MeanUnvoicedSegmentLength     1\n",
       "79  slopeUV500-1500_sma3nz_amean     2"
      ]
     },
     "execution_count": 18,
     "metadata": {},
     "output_type": "execute_result"
    }
   ],
   "source": [
    "feature_ranking_etc = pd.DataFrame({\n",
    "    'Feature': X.columns,\n",
    "    'Rank': model_etc_fit_rfe.ranking_\n",
    "})\n",
    "feature_ranking = feature_ranking_gbc.sort_values(by='Rank', ascending=True)\n",
    "feature_ranking.head(rfecv_etc.n_features_)"
   ]
  }
 ],
 "metadata": {
  "kernelspec": {
   "display_name": ".venv",
   "language": "python",
   "name": "python3"
  },
  "language_info": {
   "codemirror_mode": {
    "name": "ipython",
    "version": 3
   },
   "file_extension": ".py",
   "mimetype": "text/x-python",
   "name": "python",
   "nbconvert_exporter": "python",
   "pygments_lexer": "ipython3",
   "version": "3.9.0"
  }
 },
 "nbformat": 4,
 "nbformat_minor": 2
}
