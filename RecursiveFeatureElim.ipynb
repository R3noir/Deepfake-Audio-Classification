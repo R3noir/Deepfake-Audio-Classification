{
 "cells": [
  {
   "cell_type": "code",
   "execution_count": 1,
   "metadata": {},
   "outputs": [],
   "source": [
    "import pandas as pd\n",
    "from sklearn.model_selection import StratifiedKFold\n",
    "from sklearn.ensemble import RandomForestClassifier, GradientBoostingClassifier, ExtraTreesClassifier\n",
    "from sklearn.tree import DecisionTreeClassifier\n",
    "from sklearn.feature_selection import RFECV, RFE\n",
    "from sklearn.model_selection import train_test_split"
   ]
  },
  {
   "cell_type": "code",
   "execution_count": 2,
   "metadata": {},
   "outputs": [
    {
     "data": {
      "text/html": [
       "<div>\n",
       "<style scoped>\n",
       "    .dataframe tbody tr th:only-of-type {\n",
       "        vertical-align: middle;\n",
       "    }\n",
       "\n",
       "    .dataframe tbody tr th {\n",
       "        vertical-align: top;\n",
       "    }\n",
       "\n",
       "    .dataframe thead th {\n",
       "        text-align: right;\n",
       "    }\n",
       "</style>\n",
       "<table border=\"1\" class=\"dataframe\">\n",
       "  <thead>\n",
       "    <tr style=\"text-align: right;\">\n",
       "      <th></th>\n",
       "      <th>F0semitoneFrom27.5Hz_sma3nz_amean</th>\n",
       "      <th>F0semitoneFrom27.5Hz_sma3nz_stddevNorm</th>\n",
       "      <th>F0semitoneFrom27.5Hz_sma3nz_percentile20.0</th>\n",
       "      <th>F0semitoneFrom27.5Hz_sma3nz_percentile50.0</th>\n",
       "      <th>F0semitoneFrom27.5Hz_sma3nz_percentile80.0</th>\n",
       "      <th>F0semitoneFrom27.5Hz_sma3nz_pctlrange0-2</th>\n",
       "      <th>F0semitoneFrom27.5Hz_sma3nz_meanRisingSlope</th>\n",
       "      <th>F0semitoneFrom27.5Hz_sma3nz_stddevRisingSlope</th>\n",
       "      <th>F0semitoneFrom27.5Hz_sma3nz_meanFallingSlope</th>\n",
       "      <th>F0semitoneFrom27.5Hz_sma3nz_stddevFallingSlope</th>\n",
       "      <th>...</th>\n",
       "      <th>slopeUV0-500_sma3nz_amean</th>\n",
       "      <th>slopeUV500-1500_sma3nz_amean</th>\n",
       "      <th>spectralFluxUV_sma3nz_amean</th>\n",
       "      <th>loudnessPeaksPerSec</th>\n",
       "      <th>VoicedSegmentsPerSec</th>\n",
       "      <th>MeanVoicedSegmentLengthSec</th>\n",
       "      <th>StddevVoicedSegmentLengthSec</th>\n",
       "      <th>MeanUnvoicedSegmentLength</th>\n",
       "      <th>StddevUnvoicedSegmentLength</th>\n",
       "      <th>equivalentSoundLevel_dBp</th>\n",
       "    </tr>\n",
       "  </thead>\n",
       "  <tbody>\n",
       "    <tr>\n",
       "      <th>0</th>\n",
       "      <td>40.348400</td>\n",
       "      <td>0.053911</td>\n",
       "      <td>39.333560</td>\n",
       "      <td>40.792065</td>\n",
       "      <td>41.646780</td>\n",
       "      <td>2.313217</td>\n",
       "      <td>57.455760</td>\n",
       "      <td>24.437008</td>\n",
       "      <td>24.974644</td>\n",
       "      <td>19.391956</td>\n",
       "      <td>...</td>\n",
       "      <td>0.019291</td>\n",
       "      <td>-0.008166</td>\n",
       "      <td>0.209579</td>\n",
       "      <td>4.276316</td>\n",
       "      <td>3.678930</td>\n",
       "      <td>0.171818</td>\n",
       "      <td>0.117072</td>\n",
       "      <td>0.072500</td>\n",
       "      <td>0.067593</td>\n",
       "      <td>-17.525782</td>\n",
       "    </tr>\n",
       "    <tr>\n",
       "      <th>1</th>\n",
       "      <td>39.347420</td>\n",
       "      <td>0.041715</td>\n",
       "      <td>38.045480</td>\n",
       "      <td>39.048270</td>\n",
       "      <td>41.210155</td>\n",
       "      <td>3.164677</td>\n",
       "      <td>30.927359</td>\n",
       "      <td>12.514604</td>\n",
       "      <td>16.857141</td>\n",
       "      <td>11.613185</td>\n",
       "      <td>...</td>\n",
       "      <td>-0.004749</td>\n",
       "      <td>0.002656</td>\n",
       "      <td>0.098442</td>\n",
       "      <td>4.867257</td>\n",
       "      <td>1.809955</td>\n",
       "      <td>0.395000</td>\n",
       "      <td>0.195000</td>\n",
       "      <td>0.132500</td>\n",
       "      <td>0.103773</td>\n",
       "      <td>-16.512130</td>\n",
       "    </tr>\n",
       "    <tr>\n",
       "      <th>2</th>\n",
       "      <td>39.067787</td>\n",
       "      <td>0.055762</td>\n",
       "      <td>36.569603</td>\n",
       "      <td>39.282830</td>\n",
       "      <td>41.492110</td>\n",
       "      <td>4.922508</td>\n",
       "      <td>21.316110</td>\n",
       "      <td>15.289312</td>\n",
       "      <td>9.042774</td>\n",
       "      <td>3.699957</td>\n",
       "      <td>...</td>\n",
       "      <td>-0.000383</td>\n",
       "      <td>0.002512</td>\n",
       "      <td>0.102126</td>\n",
       "      <td>4.232804</td>\n",
       "      <td>2.717392</td>\n",
       "      <td>0.216000</td>\n",
       "      <td>0.225973</td>\n",
       "      <td>0.108333</td>\n",
       "      <td>0.067185</td>\n",
       "      <td>-17.319422</td>\n",
       "    </tr>\n",
       "    <tr>\n",
       "      <th>3</th>\n",
       "      <td>39.115086</td>\n",
       "      <td>0.040424</td>\n",
       "      <td>38.250240</td>\n",
       "      <td>39.439083</td>\n",
       "      <td>40.236988</td>\n",
       "      <td>1.986748</td>\n",
       "      <td>126.517770</td>\n",
       "      <td>47.699543</td>\n",
       "      <td>10.574628</td>\n",
       "      <td>5.348940</td>\n",
       "      <td>...</td>\n",
       "      <td>0.003987</td>\n",
       "      <td>0.007763</td>\n",
       "      <td>0.115426</td>\n",
       "      <td>4.184101</td>\n",
       "      <td>1.709402</td>\n",
       "      <td>0.407500</td>\n",
       "      <td>0.168133</td>\n",
       "      <td>0.152500</td>\n",
       "      <td>0.072930</td>\n",
       "      <td>-16.916288</td>\n",
       "    </tr>\n",
       "    <tr>\n",
       "      <th>4</th>\n",
       "      <td>39.199295</td>\n",
       "      <td>0.047696</td>\n",
       "      <td>37.388203</td>\n",
       "      <td>39.238194</td>\n",
       "      <td>41.075527</td>\n",
       "      <td>3.687324</td>\n",
       "      <td>96.397380</td>\n",
       "      <td>99.237200</td>\n",
       "      <td>22.159834</td>\n",
       "      <td>15.850734</td>\n",
       "      <td>...</td>\n",
       "      <td>-0.000803</td>\n",
       "      <td>0.006013</td>\n",
       "      <td>0.161132</td>\n",
       "      <td>4.508197</td>\n",
       "      <td>2.928870</td>\n",
       "      <td>0.200000</td>\n",
       "      <td>0.174602</td>\n",
       "      <td>0.136667</td>\n",
       "      <td>0.119117</td>\n",
       "      <td>-18.429873</td>\n",
       "    </tr>\n",
       "  </tbody>\n",
       "</table>\n",
       "<p>5 rows × 88 columns</p>\n",
       "</div>"
      ],
      "text/plain": [
       "   F0semitoneFrom27.5Hz_sma3nz_amean  F0semitoneFrom27.5Hz_sma3nz_stddevNorm  \\\n",
       "0                          40.348400                                0.053911   \n",
       "1                          39.347420                                0.041715   \n",
       "2                          39.067787                                0.055762   \n",
       "3                          39.115086                                0.040424   \n",
       "4                          39.199295                                0.047696   \n",
       "\n",
       "   F0semitoneFrom27.5Hz_sma3nz_percentile20.0  \\\n",
       "0                                   39.333560   \n",
       "1                                   38.045480   \n",
       "2                                   36.569603   \n",
       "3                                   38.250240   \n",
       "4                                   37.388203   \n",
       "\n",
       "   F0semitoneFrom27.5Hz_sma3nz_percentile50.0  \\\n",
       "0                                   40.792065   \n",
       "1                                   39.048270   \n",
       "2                                   39.282830   \n",
       "3                                   39.439083   \n",
       "4                                   39.238194   \n",
       "\n",
       "   F0semitoneFrom27.5Hz_sma3nz_percentile80.0  \\\n",
       "0                                   41.646780   \n",
       "1                                   41.210155   \n",
       "2                                   41.492110   \n",
       "3                                   40.236988   \n",
       "4                                   41.075527   \n",
       "\n",
       "   F0semitoneFrom27.5Hz_sma3nz_pctlrange0-2  \\\n",
       "0                                  2.313217   \n",
       "1                                  3.164677   \n",
       "2                                  4.922508   \n",
       "3                                  1.986748   \n",
       "4                                  3.687324   \n",
       "\n",
       "   F0semitoneFrom27.5Hz_sma3nz_meanRisingSlope  \\\n",
       "0                                    57.455760   \n",
       "1                                    30.927359   \n",
       "2                                    21.316110   \n",
       "3                                   126.517770   \n",
       "4                                    96.397380   \n",
       "\n",
       "   F0semitoneFrom27.5Hz_sma3nz_stddevRisingSlope  \\\n",
       "0                                      24.437008   \n",
       "1                                      12.514604   \n",
       "2                                      15.289312   \n",
       "3                                      47.699543   \n",
       "4                                      99.237200   \n",
       "\n",
       "   F0semitoneFrom27.5Hz_sma3nz_meanFallingSlope  \\\n",
       "0                                     24.974644   \n",
       "1                                     16.857141   \n",
       "2                                      9.042774   \n",
       "3                                     10.574628   \n",
       "4                                     22.159834   \n",
       "\n",
       "   F0semitoneFrom27.5Hz_sma3nz_stddevFallingSlope  ...  \\\n",
       "0                                       19.391956  ...   \n",
       "1                                       11.613185  ...   \n",
       "2                                        3.699957  ...   \n",
       "3                                        5.348940  ...   \n",
       "4                                       15.850734  ...   \n",
       "\n",
       "   slopeUV0-500_sma3nz_amean  slopeUV500-1500_sma3nz_amean  \\\n",
       "0                   0.019291                     -0.008166   \n",
       "1                  -0.004749                      0.002656   \n",
       "2                  -0.000383                      0.002512   \n",
       "3                   0.003987                      0.007763   \n",
       "4                  -0.000803                      0.006013   \n",
       "\n",
       "   spectralFluxUV_sma3nz_amean  loudnessPeaksPerSec  VoicedSegmentsPerSec  \\\n",
       "0                     0.209579             4.276316              3.678930   \n",
       "1                     0.098442             4.867257              1.809955   \n",
       "2                     0.102126             4.232804              2.717392   \n",
       "3                     0.115426             4.184101              1.709402   \n",
       "4                     0.161132             4.508197              2.928870   \n",
       "\n",
       "   MeanVoicedSegmentLengthSec  StddevVoicedSegmentLengthSec  \\\n",
       "0                    0.171818                      0.117072   \n",
       "1                    0.395000                      0.195000   \n",
       "2                    0.216000                      0.225973   \n",
       "3                    0.407500                      0.168133   \n",
       "4                    0.200000                      0.174602   \n",
       "\n",
       "   MeanUnvoicedSegmentLength  StddevUnvoicedSegmentLength  \\\n",
       "0                   0.072500                     0.067593   \n",
       "1                   0.132500                     0.103773   \n",
       "2                   0.108333                     0.067185   \n",
       "3                   0.152500                     0.072930   \n",
       "4                   0.136667                     0.119117   \n",
       "\n",
       "   equivalentSoundLevel_dBp  \n",
       "0                -17.525782  \n",
       "1                -16.512130  \n",
       "2                -17.319422  \n",
       "3                -16.916288  \n",
       "4                -18.429873  \n",
       "\n",
       "[5 rows x 88 columns]"
      ]
     },
     "execution_count": 2,
     "metadata": {},
     "output_type": "execute_result"
    }
   ],
   "source": [
    "audio_data = pd.read_csv(\"OpenSMILE_all_features.csv\")\n",
    "y = audio_data['label']\n",
    "columns_to_drop = ['label', 'relative_path', 'file', 'speaker', 'gender']\n",
    "X = audio_data.drop(columns=columns_to_drop, axis=1)\n",
    "Strat_kfold = StratifiedKFold(n_splits=5, shuffle=True, random_state=42)\n",
    "X.head()\n"
   ]
  },
  {
   "cell_type": "code",
   "execution_count": 3,
   "metadata": {},
   "outputs": [],
   "source": [
    "#X_train, X_test, y_train, y_test = train_test_split(X, y, test_size = 0.20, random_state=42)"
   ]
  },
  {
   "cell_type": "code",
   "execution_count": 4,
   "metadata": {},
   "outputs": [
    {
     "name": "stdout",
     "output_type": "stream",
     "text": [
      "Optimal number of features for Random Forest Classifier: 3\n"
     ]
    }
   ],
   "source": [
    "model_rf = RandomForestClassifier(random_state=42)\n",
    "rfecv_rf  = RFECV(estimator= model_rf, cv= Strat_kfold, scoring=\"accuracy\", n_jobs=-1) # Instantiate the RFECV and its parameters, n_jobs=-1 means that use all the processors\n",
    "model_rf_fit = rfecv_rf.fit(X, y)\n",
    "print(\"Optimal number of features for Random Forest Classifier: %d\" % model_rf_fit.n_features_)"
   ]
  },
  {
   "cell_type": "code",
   "execution_count": 5,
   "metadata": {},
   "outputs": [],
   "source": [
    "model_rf = RandomForestClassifier(random_state=42)\n",
    "rfe_rf = RFE(estimator=model_rf, n_features_to_select=rfecv_rf.n_features_)\n",
    "model_rf_fit_rfe = rfe_rf.fit(X, y)"
   ]
  },
  {
   "cell_type": "code",
   "execution_count": 6,
   "metadata": {},
   "outputs": [
    {
     "data": {
      "text/html": [
       "<div>\n",
       "<style scoped>\n",
       "    .dataframe tbody tr th:only-of-type {\n",
       "        vertical-align: middle;\n",
       "    }\n",
       "\n",
       "    .dataframe tbody tr th {\n",
       "        vertical-align: top;\n",
       "    }\n",
       "\n",
       "    .dataframe thead th {\n",
       "        text-align: right;\n",
       "    }\n",
       "</style>\n",
       "<table border=\"1\" class=\"dataframe\">\n",
       "  <thead>\n",
       "    <tr style=\"text-align: right;\">\n",
       "      <th></th>\n",
       "      <th>Feature</th>\n",
       "      <th>Rank</th>\n",
       "    </tr>\n",
       "  </thead>\n",
       "  <tbody>\n",
       "    <tr>\n",
       "      <th>86</th>\n",
       "      <td>StddevUnvoicedSegmentLength</td>\n",
       "      <td>1</td>\n",
       "    </tr>\n",
       "    <tr>\n",
       "      <th>81</th>\n",
       "      <td>loudnessPeaksPerSec</td>\n",
       "      <td>1</td>\n",
       "    </tr>\n",
       "    <tr>\n",
       "      <th>85</th>\n",
       "      <td>MeanUnvoicedSegmentLength</td>\n",
       "      <td>1</td>\n",
       "    </tr>\n",
       "  </tbody>\n",
       "</table>\n",
       "</div>"
      ],
      "text/plain": [
       "                        Feature  Rank\n",
       "86  StddevUnvoicedSegmentLength     1\n",
       "81          loudnessPeaksPerSec     1\n",
       "85    MeanUnvoicedSegmentLength     1"
      ]
     },
     "execution_count": 6,
     "metadata": {},
     "output_type": "execute_result"
    }
   ],
   "source": [
    "feature_ranking_RF = pd.DataFrame({\n",
    "    'Feature': X.columns,\n",
    "    'Rank': model_rf_fit_rfe.ranking_\n",
    "})\n",
    "feature_ranking = feature_ranking_RF.sort_values(by='Rank', ascending=True)\n",
    "feature_ranking.head(rfecv_rf.n_features_)"
   ]
  },
  {
   "cell_type": "code",
   "execution_count": 7,
   "metadata": {},
   "outputs": [
    {
     "name": "stdout",
     "output_type": "stream",
     "text": [
      "Optimal number of features for Decision Tree Classifier: 2\n"
     ]
    }
   ],
   "source": [
    "model_dt = DecisionTreeClassifier(random_state=42)\n",
    "rfecv_dt  = RFECV(estimator= model_dt, cv= Strat_kfold, scoring=\"accuracy\", n_jobs=-1)\n",
    "model_dt_fit = rfecv_dt.fit(X, y)\n",
    "print(\"Optimal number of features for Decision Tree Classifier: %d\" % rfecv_dt.n_features_)"
   ]
  },
  {
   "cell_type": "code",
   "execution_count": 8,
   "metadata": {},
   "outputs": [],
   "source": [
    "model_dt = DecisionTreeClassifier(random_state=42)\n",
    "rfe_dt = RFE(estimator=model_dt, n_features_to_select=rfecv_dt.n_features_)\n",
    "model_dt_fit_rfe = rfe_dt.fit(X, y)"
   ]
  },
  {
   "cell_type": "code",
   "execution_count": 9,
   "metadata": {},
   "outputs": [
    {
     "data": {
      "text/html": [
       "<div>\n",
       "<style scoped>\n",
       "    .dataframe tbody tr th:only-of-type {\n",
       "        vertical-align: middle;\n",
       "    }\n",
       "\n",
       "    .dataframe tbody tr th {\n",
       "        vertical-align: top;\n",
       "    }\n",
       "\n",
       "    .dataframe thead th {\n",
       "        text-align: right;\n",
       "    }\n",
       "</style>\n",
       "<table border=\"1\" class=\"dataframe\">\n",
       "  <thead>\n",
       "    <tr style=\"text-align: right;\">\n",
       "      <th></th>\n",
       "      <th>Feature</th>\n",
       "      <th>Rank</th>\n",
       "    </tr>\n",
       "  </thead>\n",
       "  <tbody>\n",
       "    <tr>\n",
       "      <th>86</th>\n",
       "      <td>StddevUnvoicedSegmentLength</td>\n",
       "      <td>1</td>\n",
       "    </tr>\n",
       "    <tr>\n",
       "      <th>85</th>\n",
       "      <td>MeanUnvoicedSegmentLength</td>\n",
       "      <td>1</td>\n",
       "    </tr>\n",
       "  </tbody>\n",
       "</table>\n",
       "</div>"
      ],
      "text/plain": [
       "                        Feature  Rank\n",
       "86  StddevUnvoicedSegmentLength     1\n",
       "85    MeanUnvoicedSegmentLength     1"
      ]
     },
     "execution_count": 9,
     "metadata": {},
     "output_type": "execute_result"
    }
   ],
   "source": [
    "feature_ranking_dt = pd.DataFrame({\n",
    "    'Feature': X.columns,\n",
    "    'Rank': model_dt_fit_rfe.ranking_\n",
    "})\n",
    "feature_ranking = feature_ranking_dt.sort_values(by='Rank', ascending=True)\n",
    "feature_ranking.head(rfecv_dt.n_features_)"
   ]
  },
  {
   "cell_type": "code",
   "execution_count": 10,
   "metadata": {},
   "outputs": [
    {
     "name": "stdout",
     "output_type": "stream",
     "text": [
      "Optimal number of features for Gradient Boosting Classifier: 2\n"
     ]
    }
   ],
   "source": [
    "model_gbc = GradientBoostingClassifier(random_state=42)\n",
    "rfecv_gbc  = RFECV(estimator= model_gbc, cv= Strat_kfold, scoring=\"accuracy\", n_jobs=-1)\n",
    "model_gbc_fit = rfecv_gbc.fit(X, y)\n",
    "print(\"Optimal number of features for Gradient Boosting Classifier: %d\" % rfecv_gbc.n_features_)"
   ]
  },
  {
   "cell_type": "code",
   "execution_count": 11,
   "metadata": {},
   "outputs": [],
   "source": [
    "model_gbc = GradientBoostingClassifier(random_state=42)\n",
    "rfe_gbc = RFE(estimator=model_gbc, n_features_to_select=rfecv_gbc.n_features_)\n",
    "model_gbc_fit_rfe = rfe_gbc.fit(X, y)"
   ]
  },
  {
   "cell_type": "code",
   "execution_count": 12,
   "metadata": {},
   "outputs": [
    {
     "data": {
      "text/html": [
       "<div>\n",
       "<style scoped>\n",
       "    .dataframe tbody tr th:only-of-type {\n",
       "        vertical-align: middle;\n",
       "    }\n",
       "\n",
       "    .dataframe tbody tr th {\n",
       "        vertical-align: top;\n",
       "    }\n",
       "\n",
       "    .dataframe thead th {\n",
       "        text-align: right;\n",
       "    }\n",
       "</style>\n",
       "<table border=\"1\" class=\"dataframe\">\n",
       "  <thead>\n",
       "    <tr style=\"text-align: right;\">\n",
       "      <th></th>\n",
       "      <th>Feature</th>\n",
       "      <th>Rank</th>\n",
       "    </tr>\n",
       "  </thead>\n",
       "  <tbody>\n",
       "    <tr>\n",
       "      <th>86</th>\n",
       "      <td>StddevUnvoicedSegmentLength</td>\n",
       "      <td>1</td>\n",
       "    </tr>\n",
       "    <tr>\n",
       "      <th>85</th>\n",
       "      <td>MeanUnvoicedSegmentLength</td>\n",
       "      <td>1</td>\n",
       "    </tr>\n",
       "  </tbody>\n",
       "</table>\n",
       "</div>"
      ],
      "text/plain": [
       "                        Feature  Rank\n",
       "86  StddevUnvoicedSegmentLength     1\n",
       "85    MeanUnvoicedSegmentLength     1"
      ]
     },
     "execution_count": 12,
     "metadata": {},
     "output_type": "execute_result"
    }
   ],
   "source": [
    "feature_ranking_gbc = pd.DataFrame({\n",
    "    'Feature': X.columns,\n",
    "    'Rank': model_gbc_fit_rfe.ranking_\n",
    "})\n",
    "feature_ranking = feature_ranking_gbc.sort_values(by='Rank', ascending=True)\n",
    "feature_ranking.head(rfecv_gbc.n_features_)"
   ]
  },
  {
   "cell_type": "code",
   "execution_count": 13,
   "metadata": {},
   "outputs": [
    {
     "name": "stdout",
     "output_type": "stream",
     "text": [
      "Optimal number of features for Gradient Boosting Classifier: 3\n"
     ]
    }
   ],
   "source": [
    "model_etc = ExtraTreesClassifier(random_state=42)\n",
    "rfecv_etc  = RFECV(estimator= model_etc, cv= Strat_kfold, scoring=\"accuracy\", n_jobs=-1)\n",
    "model_etc_fit = rfecv_etc.fit(X, y)\n",
    "print(\"Optimal number of features for Gradient Boosting Classifier: %d\" % rfecv_etc.n_features_)"
   ]
  },
  {
   "cell_type": "code",
   "execution_count": 14,
   "metadata": {},
   "outputs": [],
   "source": [
    "model_etc = ExtraTreesClassifier(random_state=42)\n",
    "rfe_etc = RFE(estimator=model_gbc, n_features_to_select=rfecv_etc.n_features_)\n",
    "model_etc_fit_rfe = rfe_etc.fit(X, y)"
   ]
  },
  {
   "cell_type": "code",
   "execution_count": 15,
   "metadata": {},
   "outputs": [
    {
     "data": {
      "text/html": [
       "<div>\n",
       "<style scoped>\n",
       "    .dataframe tbody tr th:only-of-type {\n",
       "        vertical-align: middle;\n",
       "    }\n",
       "\n",
       "    .dataframe tbody tr th {\n",
       "        vertical-align: top;\n",
       "    }\n",
       "\n",
       "    .dataframe thead th {\n",
       "        text-align: right;\n",
       "    }\n",
       "</style>\n",
       "<table border=\"1\" class=\"dataframe\">\n",
       "  <thead>\n",
       "    <tr style=\"text-align: right;\">\n",
       "      <th></th>\n",
       "      <th>Feature</th>\n",
       "      <th>Rank</th>\n",
       "    </tr>\n",
       "  </thead>\n",
       "  <tbody>\n",
       "    <tr>\n",
       "      <th>86</th>\n",
       "      <td>StddevUnvoicedSegmentLength</td>\n",
       "      <td>1</td>\n",
       "    </tr>\n",
       "    <tr>\n",
       "      <th>85</th>\n",
       "      <td>MeanUnvoicedSegmentLength</td>\n",
       "      <td>1</td>\n",
       "    </tr>\n",
       "    <tr>\n",
       "      <th>79</th>\n",
       "      <td>slopeUV500-1500_sma3nz_amean</td>\n",
       "      <td>2</td>\n",
       "    </tr>\n",
       "  </tbody>\n",
       "</table>\n",
       "</div>"
      ],
      "text/plain": [
       "                         Feature  Rank\n",
       "86   StddevUnvoicedSegmentLength     1\n",
       "85     MeanUnvoicedSegmentLength     1\n",
       "79  slopeUV500-1500_sma3nz_amean     2"
      ]
     },
     "execution_count": 15,
     "metadata": {},
     "output_type": "execute_result"
    }
   ],
   "source": [
    "feature_ranking_etc = pd.DataFrame({\n",
    "    'Feature': X.columns,\n",
    "    'Rank': model_etc_fit_rfe.ranking_\n",
    "})\n",
    "feature_ranking = feature_ranking_gbc.sort_values(by='Rank', ascending=True)\n",
    "feature_ranking.head(rfecv_etc.n_features_)"
   ]
  }
 ],
 "metadata": {
  "kernelspec": {
   "display_name": ".venv",
   "language": "python",
   "name": "python3"
  },
  "language_info": {
   "codemirror_mode": {
    "name": "ipython",
    "version": 3
   },
   "file_extension": ".py",
   "mimetype": "text/x-python",
   "name": "python",
   "nbconvert_exporter": "python",
   "pygments_lexer": "ipython3",
   "version": "3.9.0"
  }
 },
 "nbformat": 4,
 "nbformat_minor": 2
}
